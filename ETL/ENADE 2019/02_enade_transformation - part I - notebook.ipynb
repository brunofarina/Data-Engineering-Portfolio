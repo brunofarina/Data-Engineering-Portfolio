{
 "cells": [
  {
   "cell_type": "markdown",
   "metadata": {},
   "source": [
    "# ENADE - Data Transformation"
   ]
  },
  {
   "cell_type": "markdown",
   "metadata": {},
   "source": [
    "This notebook is about Transforming the data that comes from the CSV file that has been downloaded in the **Extract** process.\n",
    "To understand the extracted data, the Data Engineer should always read the dataset's Variable Dictionary, i.e., it could be a spreadsheet, a text file, or another kind of file that explain the content of the dataset, once (almost everytime) you are not able to figure out what every column is about, by just reading its content.\n",
    "\n",
    "PS: not every dataset has a variable's dictionary, but several of them it has."
   ]
  },
  {
   "cell_type": "code",
   "execution_count": null,
   "metadata": {},
   "outputs": [],
   "source": [
    "# import libs\n",
    "import pandas as pd\n",
    "import numpy as np\n",
    "import os"
   ]
  },
  {
   "cell_type": "code",
   "execution_count": null,
   "metadata": {},
   "outputs": [],
   "source": [
    "enade = pd.read_csv(\n",
    "  \"./enade2019/microdados_enade_2019/2019/3.DADOS/microdados_enade_2019.txt\",\n",
    "  sep = \";\",\n",
    "  decimal = \",\"\n",
    ")"
   ]
  },
  {
   "cell_type": "code",
   "execution_count": null,
   "metadata": {},
   "outputs": [
    {
     "data": {
      "text/html": "<div>\n<style scoped>\n    .dataframe tbody tr th:only-of-type {\n        vertical-align: middle;\n    }\n\n    .dataframe tbody tr th {\n        vertical-align: top;\n    }\n\n    .dataframe thead th {\n        text-align: right;\n    }\n</style>\n<table border=\"1\" class=\"dataframe\">\n  <thead>\n    <tr style=\"text-align: right;\">\n      <th></th>\n      <th>NU_ANO</th>\n      <th>CO_IES</th>\n      <th>CO_CATEGAD</th>\n      <th>CO_ORGACAD</th>\n      <th>CO_GRUPO</th>\n      <th>CO_CURSO</th>\n      <th>CO_MODALIDADE</th>\n      <th>CO_MUNIC_CURSO</th>\n      <th>CO_UF_CURSO</th>\n      <th>CO_REGIAO_CURSO</th>\n      <th>...</th>\n      <th>QE_I59</th>\n      <th>QE_I60</th>\n      <th>QE_I61</th>\n      <th>QE_I62</th>\n      <th>QE_I63</th>\n      <th>QE_I64</th>\n      <th>QE_I65</th>\n      <th>QE_I66</th>\n      <th>QE_I67</th>\n      <th>QE_I68</th>\n    </tr>\n  </thead>\n  <tbody>\n    <tr>\n      <th>0</th>\n      <td>2019</td>\n      <td>1</td>\n      <td>10002</td>\n      <td>10028</td>\n      <td>5710</td>\n      <td>3</td>\n      <td>1</td>\n      <td>5103403</td>\n      <td>51</td>\n      <td>5</td>\n      <td>...</td>\n      <td>2.0</td>\n      <td>5.0</td>\n      <td>1.0</td>\n      <td>1.0</td>\n      <td>2.0</td>\n      <td>5.0</td>\n      <td>8.0</td>\n      <td>7.0</td>\n      <td>1.0</td>\n      <td>2.0</td>\n    </tr>\n    <tr>\n      <th>1</th>\n      <td>2019</td>\n      <td>1</td>\n      <td>10002</td>\n      <td>10028</td>\n      <td>5710</td>\n      <td>3</td>\n      <td>1</td>\n      <td>5103403</td>\n      <td>51</td>\n      <td>5</td>\n      <td>...</td>\n      <td>1.0</td>\n      <td>4.0</td>\n      <td>2.0</td>\n      <td>2.0</td>\n      <td>2.0</td>\n      <td>5.0</td>\n      <td>4.0</td>\n      <td>4.0</td>\n      <td>2.0</td>\n      <td>2.0</td>\n    </tr>\n    <tr>\n      <th>2</th>\n      <td>2019</td>\n      <td>1</td>\n      <td>10002</td>\n      <td>10028</td>\n      <td>5710</td>\n      <td>3</td>\n      <td>1</td>\n      <td>5103403</td>\n      <td>51</td>\n      <td>5</td>\n      <td>...</td>\n      <td>3.0</td>\n      <td>4.0</td>\n      <td>4.0</td>\n      <td>3.0</td>\n      <td>3.0</td>\n      <td>4.0</td>\n      <td>1.0</td>\n      <td>1.0</td>\n      <td>1.0</td>\n      <td>4.0</td>\n    </tr>\n    <tr>\n      <th>3</th>\n      <td>2019</td>\n      <td>1</td>\n      <td>10002</td>\n      <td>10028</td>\n      <td>5710</td>\n      <td>3</td>\n      <td>1</td>\n      <td>5103403</td>\n      <td>51</td>\n      <td>5</td>\n      <td>...</td>\n      <td>3.0</td>\n      <td>5.0</td>\n      <td>2.0</td>\n      <td>2.0</td>\n      <td>2.0</td>\n      <td>3.0</td>\n      <td>3.0</td>\n      <td>4.0</td>\n      <td>3.0</td>\n      <td>3.0</td>\n    </tr>\n    <tr>\n      <th>4</th>\n      <td>2019</td>\n      <td>1</td>\n      <td>10002</td>\n      <td>10028</td>\n      <td>5710</td>\n      <td>3</td>\n      <td>1</td>\n      <td>5103403</td>\n      <td>51</td>\n      <td>5</td>\n      <td>...</td>\n      <td>NaN</td>\n      <td>NaN</td>\n      <td>NaN</td>\n      <td>NaN</td>\n      <td>NaN</td>\n      <td>NaN</td>\n      <td>NaN</td>\n      <td>NaN</td>\n      <td>NaN</td>\n      <td>NaN</td>\n    </tr>\n  </tbody>\n</table>\n<p>5 rows × 137 columns</p>\n</div>",
      "text/plain": "   NU_ANO  CO_IES  CO_CATEGAD  CO_ORGACAD  CO_GRUPO  CO_CURSO  CO_MODALIDADE  \\\n0    2019       1       10002       10028      5710         3              1   \n1    2019       1       10002       10028      5710         3              1   \n2    2019       1       10002       10028      5710         3              1   \n3    2019       1       10002       10028      5710         3              1   \n4    2019       1       10002       10028      5710         3              1   \n\n   CO_MUNIC_CURSO  CO_UF_CURSO  CO_REGIAO_CURSO  ...  QE_I59 QE_I60  QE_I61  \\\n0         5103403           51                5  ...     2.0    5.0     1.0   \n1         5103403           51                5  ...     1.0    4.0     2.0   \n2         5103403           51                5  ...     3.0    4.0     4.0   \n3         5103403           51                5  ...     3.0    5.0     2.0   \n4         5103403           51                5  ...     NaN    NaN     NaN   \n\n   QE_I62  QE_I63  QE_I64  QE_I65  QE_I66  QE_I67  QE_I68  \n0     1.0     2.0     5.0     8.0     7.0     1.0     2.0  \n1     2.0     2.0     5.0     4.0     4.0     2.0     2.0  \n2     3.0     3.0     4.0     1.0     1.0     1.0     4.0  \n3     2.0     2.0     3.0     3.0     4.0     3.0     3.0  \n4     NaN     NaN     NaN     NaN     NaN     NaN     NaN  \n\n[5 rows x 137 columns]"
     },
     "output_type": "unknown"
    }
   ],
   "source": [
    "# showing the 5 first rows\n",
    "enade.head(5)"
   ]
  },
  {
   "cell_type": "code",
   "execution_count": null,
   "metadata": {},
   "outputs": [
    {
     "data": {
      "text/plain": "{'NU_ANO': dtype('int64'),\n 'CO_IES': dtype('int64'),\n 'CO_CATEGAD': dtype('int64'),\n 'CO_ORGACAD': dtype('int64'),\n 'CO_GRUPO': dtype('int64'),\n 'CO_CURSO': dtype('int64'),\n 'CO_MODALIDADE': dtype('int64'),\n 'CO_MUNIC_CURSO': dtype('int64'),\n 'CO_UF_CURSO': dtype('int64'),\n 'CO_REGIAO_CURSO': dtype('int64'),\n 'NU_IDADE': dtype('int64'),\n 'TP_SEXO': dtype('O'),\n 'ANO_FIM_EM': dtype('int64'),\n 'ANO_IN_GRAD': dtype('float64'),\n 'CO_TURNO_GRADUACAO': dtype('float64'),\n 'TP_INSCRICAO_ADM': dtype('int64'),\n 'TP_INSCRICAO': dtype('int64'),\n 'NU_ITEM_OFG': dtype('int64'),\n 'NU_ITEM_OFG_Z': dtype('int64'),\n 'NU_ITEM_OFG_X': dtype('int64'),\n 'NU_ITEM_OFG_N': dtype('int64'),\n 'NU_ITEM_OCE': dtype('int64'),\n 'NU_ITEM_OCE_Z': dtype('int64'),\n 'NU_ITEM_OCE_X': dtype('int64'),\n 'NU_ITEM_OCE_N': dtype('int64'),\n 'DS_VT_GAB_OFG_ORIG': dtype('O'),\n 'DS_VT_GAB_OFG_FIN': dtype('O'),\n 'DS_VT_GAB_OCE_ORIG': dtype('O'),\n 'DS_VT_GAB_OCE_FIN': dtype('O'),\n 'DS_VT_ESC_OFG': dtype('O'),\n 'DS_VT_ACE_OFG': dtype('O'),\n 'DS_VT_ESC_OCE': dtype('O'),\n 'DS_VT_ACE_OCE': dtype('O'),\n 'TP_PRES': dtype('int64'),\n 'TP_PR_GER': dtype('int64'),\n 'TP_PR_OB_FG': dtype('int64'),\n 'TP_PR_DI_FG': dtype('int64'),\n 'TP_PR_OB_CE': dtype('int64'),\n 'TP_PR_DI_CE': dtype('int64'),\n 'TP_SFG_D1': dtype('int64'),\n 'TP_SFG_D2': dtype('int64'),\n 'TP_SCE_D1': dtype('int64'),\n 'TP_SCE_D2': dtype('int64'),\n 'TP_SCE_D3': dtype('int64'),\n 'NT_GER': dtype('float64'),\n 'NT_FG': dtype('float64'),\n 'NT_OBJ_FG': dtype('float64'),\n 'NT_DIS_FG': dtype('float64'),\n 'NT_FG_D1': dtype('float64'),\n 'NT_FG_D1_PT': dtype('float64'),\n 'NT_FG_D1_CT': dtype('float64'),\n 'NT_FG_D2': dtype('float64'),\n 'NT_FG_D2_PT': dtype('float64'),\n 'NT_FG_D2_CT': dtype('float64'),\n 'NT_CE': dtype('float64'),\n 'NT_OBJ_CE': dtype('float64'),\n 'NT_DIS_CE': dtype('float64'),\n 'NT_CE_D1': dtype('float64'),\n 'NT_CE_D2': dtype('float64'),\n 'NT_CE_D3': dtype('float64'),\n 'CO_RS_I1': dtype('O'),\n 'CO_RS_I2': dtype('O'),\n 'CO_RS_I3': dtype('O'),\n 'CO_RS_I4': dtype('O'),\n 'CO_RS_I5': dtype('O'),\n 'CO_RS_I6': dtype('O'),\n 'CO_RS_I7': dtype('O'),\n 'CO_RS_I8': dtype('O'),\n 'CO_RS_I9': dtype('O'),\n 'QE_I01': dtype('O'),\n 'QE_I02': dtype('O'),\n 'QE_I03': dtype('O'),\n 'QE_I04': dtype('O'),\n 'QE_I05': dtype('O'),\n 'QE_I06': dtype('O'),\n 'QE_I07': dtype('O'),\n 'QE_I08': dtype('O'),\n 'QE_I09': dtype('O'),\n 'QE_I10': dtype('O'),\n 'QE_I11': dtype('O'),\n 'QE_I12': dtype('O'),\n 'QE_I13': dtype('O'),\n 'QE_I14': dtype('O'),\n 'QE_I15': dtype('O'),\n 'QE_I16': dtype('float64'),\n 'QE_I17': dtype('O'),\n 'QE_I18': dtype('O'),\n 'QE_I19': dtype('O'),\n 'QE_I20': dtype('O'),\n 'QE_I21': dtype('O'),\n 'QE_I22': dtype('O'),\n 'QE_I23': dtype('O'),\n 'QE_I24': dtype('O'),\n 'QE_I25': dtype('O'),\n 'QE_I26': dtype('O'),\n 'QE_I27': dtype('float64'),\n 'QE_I28': dtype('float64'),\n 'QE_I29': dtype('float64'),\n 'QE_I30': dtype('float64'),\n 'QE_I31': dtype('float64'),\n 'QE_I32': dtype('float64'),\n 'QE_I33': dtype('float64'),\n 'QE_I34': dtype('float64'),\n 'QE_I35': dtype('float64'),\n 'QE_I36': dtype('float64'),\n 'QE_I37': dtype('float64'),\n 'QE_I38': dtype('float64'),\n 'QE_I39': dtype('float64'),\n 'QE_I40': dtype('float64'),\n 'QE_I41': dtype('float64'),\n 'QE_I42': dtype('float64'),\n 'QE_I43': dtype('float64'),\n 'QE_I44': dtype('float64'),\n 'QE_I45': dtype('float64'),\n 'QE_I46': dtype('float64'),\n 'QE_I47': dtype('float64'),\n 'QE_I48': dtype('float64'),\n 'QE_I49': dtype('float64'),\n 'QE_I50': dtype('float64'),\n 'QE_I51': dtype('float64'),\n 'QE_I52': dtype('float64'),\n 'QE_I53': dtype('float64'),\n 'QE_I54': dtype('float64'),\n 'QE_I55': dtype('float64'),\n 'QE_I56': dtype('float64'),\n 'QE_I57': dtype('float64'),\n 'QE_I58': dtype('float64'),\n 'QE_I59': dtype('float64'),\n 'QE_I60': dtype('float64'),\n 'QE_I61': dtype('float64'),\n 'QE_I62': dtype('float64'),\n 'QE_I63': dtype('float64'),\n 'QE_I64': dtype('float64'),\n 'QE_I65': dtype('float64'),\n 'QE_I66': dtype('float64'),\n 'QE_I67': dtype('float64'),\n 'QE_I68': dtype('float64')}"
     },
     "output_type": "unknown"
    }
   ],
   "source": [
    "# checking table schema\n",
    "dict(enade.dtypes)"
   ]
  },
  {
   "cell_type": "markdown",
   "metadata": {},
   "source": [
    "Some of the information that I got from the Variable's Dictionary (by checking the file at: enade2019/microdados_enade_2019/2019/1.LEIA-ME/Dicionário de variáveis dos Microdados do Enade 2019.ods):\n",
    "- CO_IES\n",
    "- CO_CATEGAD\n",
    "- CO_GRUPO\n",
    "- CO_MODALIDADE\n",
    "- CO_UF_GRUPO\n",
    "- CO_REGIAO_CURSO\n",
    "- NU_IDADE\n",
    "- TP_SEXO\n",
    "- NT_GER\n",
    "- NT_FG\n",
    "- NT_CE\n",
    "\n",
    "More info related to student questionary:\n",
    "- 01: Estado Civil\n",
    "- 02: Cor ou raça\n",
    "- 04: Escolaridade do pai\n",
    "- 05: Escolaridade da mãe\n",
    "- 08: Renda familiar\n",
    "- 10: Situação de Trabalho\n",
    "- 11: Situação de Bolsa\n",
    "- 14: Intercambio\n",
    "- 15: Cotas\n",
    "- 23: Horas de estudo/semana\n",
    "- 25: Motivo de escolha do curso\n",
    "- 26: Motivo de escolha da IES\n"
   ]
  },
  {
   "cell_type": "code",
   "execution_count": null,
   "metadata": {},
   "outputs": [
    {
     "data": {
      "text/plain": "count    390091.000000\nmean         44.076610\nstd          14.542059\nmin           0.000000\n25%          33.200000\n50%          43.800000\n75%          54.800000\nmax          93.000000\nName: NT_GER, dtype: float64"
     },
     "output_type": "unknown"
    }
   ],
   "source": [
    "#NT_GET (Nota Geral)\n",
    "enade.NT_GER.describe()"
   ]
  },
  {
   "cell_type": "code",
   "execution_count": null,
   "metadata": {},
   "outputs": [
    {
     "data": {
      "text/plain": "43839"
     },
     "output_type": "unknown"
    }
   ],
   "source": [
    "# Counting null result\n",
    "enade.NT_GER.isnull().sum()"
   ]
  },
  {
   "cell_type": "code",
   "execution_count": null,
   "metadata": {},
   "outputs": [
    {
     "data": {
      "text/plain": "0.10102781554628627"
     },
     "output_type": "unknown"
    }
   ],
   "source": [
    "# relative null percentage\n",
    "enade.NT_GER.isnull().sum()/enade.shape[0]"
   ]
  },
  {
   "cell_type": "code",
   "execution_count": null,
   "metadata": {},
   "outputs": [
    {
     "data": {
      "text/plain": "count    82944.000000\nmean        43.788555\nstd         14.622670\nmin          0.000000\n25%         32.800000\n50%         43.400000\n75%         54.600000\nmax         91.600000\nName: NT_GER, dtype: float64"
     },
     "output_type": "unknown"
    }
   ],
   "source": [
    "# details of regiao Nordeste (2)\n",
    "enade.loc[\n",
    "    enade.CO_REGIAO_CURSO == 2\n",
    "].NT_GER.describe()"
   ]
  },
  {
   "cell_type": "code",
   "execution_count": null,
   "metadata": {},
   "outputs": [
    {
     "data": {
      "text/plain": "count    389730.000000\nmean         44.117437\nstd          14.486758\nmin           0.300000\n25%          33.300000\n50%          43.800000\n75%          54.800000\nmax          93.000000\nName: NT_GER, dtype: float64"
     },
     "output_type": "unknown"
    }
   ],
   "source": [
    "# details NOTA GERAL (NT_GER)\n",
    "enade.loc[\n",
    "    enade.NT_GER >0\n",
    "].NT_GER.describe()"
   ]
  },
  {
   "cell_type": "code",
   "execution_count": null,
   "metadata": {},
   "outputs": [
    {
     "data": {
      "text/plain": "count    385913.000000\nmean         44.149504\nstd          14.528106\nmin           0.000000\n25%          33.300000\n50%          43.900000\n75%          54.800000\nmax          93.000000\nName: NT_GER, dtype: float64"
     },
     "output_type": "unknown"
    }
   ],
   "source": [
    "# filtering results for students' age between 20 e 50 years old\n",
    "enade.loc[\n",
    "    (enade.NU_IDADE >= 20) &\n",
    "    (enade.NU_IDADE <= 50)\n",
    "].NT_GER.describe()"
   ]
  },
  {
   "cell_type": "code",
   "execution_count": null,
   "metadata": {},
   "outputs": [
    {
     "data": {
      "text/plain": "F    0.537596\nM    0.462404\nName: TP_SEXO, dtype: float64"
     },
     "output_type": "unknown"
    }
   ],
   "source": [
    "enade.TP_SEXO.value_counts()/enade.shape[0]"
   ]
  }
 ],
 "metadata": {
  "kernelspec": {
   "display_name": "Python 3.9.4 64-bit",
   "name": "python394jvsc74a57bd0aee8b7b246df8f9039afb4144a1f6fd8d2ca17a180786b69acc140d282b71a49"
  },
  "language_info": {
   "name": "python",
   "version": ""
  },
  "metadata": {
   "interpreter": {
    "hash": "aee8b7b246df8f9039afb4144a1f6fd8d2ca17a180786b69acc140d282b71a49"
   }
  },
  "orig_nbformat": 2
 },
 "nbformat": 4,
 "nbformat_minor": 2
}