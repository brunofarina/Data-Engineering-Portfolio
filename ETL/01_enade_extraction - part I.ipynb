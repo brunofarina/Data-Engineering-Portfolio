{
  "cells": [
    {
      "cell_type": "markdown",
      "metadata": {
        "id": "HE72bbKlSfTC"
      },
      "source": [
        "# ENADE data extraction"
      ]
    },
    {
      "cell_type": "code",
      "execution_count": 1,
      "metadata": {
        "id": "FO1aoAjkTA02"
      },
      "outputs": [],
      "source": [
        "# import libs\n",
        "import pandas as pd\n",
        "import numpy as np\n",
        "import zipfile\n",
        "import requests\n",
        "from io import BytesIO\n",
        "import os"
      ]
    },
    {
      "cell_type": "code",
      "execution_count": 2,
      "metadata": {
        "id": "ERhXiqV5TYyA"
      },
      "outputs": [],
      "source": [
        "# it creates a directory to store ENADE data from 2019\n",
        "os.makedirs('./enade2019', exist_ok=True)"
      ]
    },
    {
      "cell_type": "code",
      "execution_count": 3,
      "metadata": {
        "id": "1NMe-wzLT3sT"
      },
      "outputs": [],
      "source": [
        "# defines the url to request content, by dowloading the ZIP file from that website\n",
        "url = \"https://download.inep.gov.br/microdados/Enade_Microdados/microdados_enade_2019.zip\"\n",
        "fileBytes = BytesIO(\n",
        "    requests.get(url).content\n",
        ")\n",
        "\n",
        "# extracts the zipfile\n",
        "myzip = zipfile.ZipFile(fileBytes)\n",
        "myzip.extractall('./enade2019/')"
      ]
    },
    {
      "cell_type": "markdown",
      "metadata": {
        "id": "JmUxmq_PVi1H"
      },
      "source": [
        "# Checking downloaded data"
      ]
    },
    {
      "cell_type": "code",
      "execution_count": 4,
      "metadata": {
        "id": "2rlJKEyLVnhQ"
      },
      "outputs": [],
      "source": [
        "enade = pd.read_csv(\n",
        "  \"./enade2019/microdados_enade_2019/2019/3.DADOS/microdados_enade_2019.txt\",\n",
        "  sep = \";\",\n",
        "  decimal=\",\"\n",
        ")"
      ]
    },
    {
      "cell_type": "code",
      "execution_count": 5,
      "metadata": {
        "colab": {
          "base_uri": "https://localhost:8080/",
          "height": 405
        },
        "id": "TQSfptpMWMM2",
        "outputId": "5f2aec46-a845-44f2-9084-880958dc71d2"
      },
      "outputs": [
        {
          "data": {
            "text/html": "<div>\n<style scoped>\n    .dataframe tbody tr th:only-of-type {\n        vertical-align: middle;\n    }\n\n    .dataframe tbody tr th {\n        vertical-align: top;\n    }\n\n    .dataframe thead th {\n        text-align: right;\n    }\n</style>\n<table border=\"1\" class=\"dataframe\">\n  <thead>\n    <tr style=\"text-align: right;\">\n      <th></th>\n      <th>NU_ANO</th>\n      <th>CO_IES</th>\n      <th>CO_CATEGAD</th>\n      <th>CO_ORGACAD</th>\n      <th>CO_GRUPO</th>\n      <th>CO_CURSO</th>\n      <th>CO_MODALIDADE</th>\n      <th>CO_MUNIC_CURSO</th>\n      <th>CO_UF_CURSO</th>\n      <th>CO_REGIAO_CURSO</th>\n      <th>...</th>\n      <th>QE_I59</th>\n      <th>QE_I60</th>\n      <th>QE_I61</th>\n      <th>QE_I62</th>\n      <th>QE_I63</th>\n      <th>QE_I64</th>\n      <th>QE_I65</th>\n      <th>QE_I66</th>\n      <th>QE_I67</th>\n      <th>QE_I68</th>\n    </tr>\n  </thead>\n  <tbody>\n    <tr>\n      <th>0</th>\n      <td>2019</td>\n      <td>1</td>\n      <td>10002</td>\n      <td>10028</td>\n      <td>5710</td>\n      <td>3</td>\n      <td>1</td>\n      <td>5103403</td>\n      <td>51</td>\n      <td>5</td>\n      <td>...</td>\n      <td>2.0</td>\n      <td>5.0</td>\n      <td>1.0</td>\n      <td>1.0</td>\n      <td>2.0</td>\n      <td>5.0</td>\n      <td>8.0</td>\n      <td>7.0</td>\n      <td>1.0</td>\n      <td>2.0</td>\n    </tr>\n    <tr>\n      <th>1</th>\n      <td>2019</td>\n      <td>1</td>\n      <td>10002</td>\n      <td>10028</td>\n      <td>5710</td>\n      <td>3</td>\n      <td>1</td>\n      <td>5103403</td>\n      <td>51</td>\n      <td>5</td>\n      <td>...</td>\n      <td>1.0</td>\n      <td>4.0</td>\n      <td>2.0</td>\n      <td>2.0</td>\n      <td>2.0</td>\n      <td>5.0</td>\n      <td>4.0</td>\n      <td>4.0</td>\n      <td>2.0</td>\n      <td>2.0</td>\n    </tr>\n    <tr>\n      <th>2</th>\n      <td>2019</td>\n      <td>1</td>\n      <td>10002</td>\n      <td>10028</td>\n      <td>5710</td>\n      <td>3</td>\n      <td>1</td>\n      <td>5103403</td>\n      <td>51</td>\n      <td>5</td>\n      <td>...</td>\n      <td>3.0</td>\n      <td>4.0</td>\n      <td>4.0</td>\n      <td>3.0</td>\n      <td>3.0</td>\n      <td>4.0</td>\n      <td>1.0</td>\n      <td>1.0</td>\n      <td>1.0</td>\n      <td>4.0</td>\n    </tr>\n    <tr>\n      <th>3</th>\n      <td>2019</td>\n      <td>1</td>\n      <td>10002</td>\n      <td>10028</td>\n      <td>5710</td>\n      <td>3</td>\n      <td>1</td>\n      <td>5103403</td>\n      <td>51</td>\n      <td>5</td>\n      <td>...</td>\n      <td>3.0</td>\n      <td>5.0</td>\n      <td>2.0</td>\n      <td>2.0</td>\n      <td>2.0</td>\n      <td>3.0</td>\n      <td>3.0</td>\n      <td>4.0</td>\n      <td>3.0</td>\n      <td>3.0</td>\n    </tr>\n    <tr>\n      <th>4</th>\n      <td>2019</td>\n      <td>1</td>\n      <td>10002</td>\n      <td>10028</td>\n      <td>5710</td>\n      <td>3</td>\n      <td>1</td>\n      <td>5103403</td>\n      <td>51</td>\n      <td>5</td>\n      <td>...</td>\n      <td>NaN</td>\n      <td>NaN</td>\n      <td>NaN</td>\n      <td>NaN</td>\n      <td>NaN</td>\n      <td>NaN</td>\n      <td>NaN</td>\n      <td>NaN</td>\n      <td>NaN</td>\n      <td>NaN</td>\n    </tr>\n    <tr>\n      <th>5</th>\n      <td>2019</td>\n      <td>1</td>\n      <td>10002</td>\n      <td>10028</td>\n      <td>5710</td>\n      <td>3</td>\n      <td>1</td>\n      <td>5103403</td>\n      <td>51</td>\n      <td>5</td>\n      <td>...</td>\n      <td>1.0</td>\n      <td>6.0</td>\n      <td>1.0</td>\n      <td>1.0</td>\n      <td>1.0</td>\n      <td>8.0</td>\n      <td>1.0</td>\n      <td>1.0</td>\n      <td>1.0</td>\n      <td>1.0</td>\n    </tr>\n    <tr>\n      <th>6</th>\n      <td>2019</td>\n      <td>1</td>\n      <td>10002</td>\n      <td>10028</td>\n      <td>5710</td>\n      <td>3</td>\n      <td>1</td>\n      <td>5103403</td>\n      <td>51</td>\n      <td>5</td>\n      <td>...</td>\n      <td>1.0</td>\n      <td>4.0</td>\n      <td>1.0</td>\n      <td>3.0</td>\n      <td>3.0</td>\n      <td>6.0</td>\n      <td>6.0</td>\n      <td>3.0</td>\n      <td>6.0</td>\n      <td>4.0</td>\n    </tr>\n    <tr>\n      <th>7</th>\n      <td>2019</td>\n      <td>1</td>\n      <td>10002</td>\n      <td>10028</td>\n      <td>5710</td>\n      <td>3</td>\n      <td>1</td>\n      <td>5103403</td>\n      <td>51</td>\n      <td>5</td>\n      <td>...</td>\n      <td>8.0</td>\n      <td>6.0</td>\n      <td>3.0</td>\n      <td>2.0</td>\n      <td>2.0</td>\n      <td>6.0</td>\n      <td>8.0</td>\n      <td>1.0</td>\n      <td>1.0</td>\n      <td>3.0</td>\n    </tr>\n    <tr>\n      <th>8</th>\n      <td>2019</td>\n      <td>1</td>\n      <td>10002</td>\n      <td>10028</td>\n      <td>5710</td>\n      <td>3</td>\n      <td>1</td>\n      <td>5103403</td>\n      <td>51</td>\n      <td>5</td>\n      <td>...</td>\n      <td>5.0</td>\n      <td>5.0</td>\n      <td>1.0</td>\n      <td>1.0</td>\n      <td>1.0</td>\n      <td>5.0</td>\n      <td>1.0</td>\n      <td>4.0</td>\n      <td>3.0</td>\n      <td>1.0</td>\n    </tr>\n    <tr>\n      <th>9</th>\n      <td>2019</td>\n      <td>1</td>\n      <td>10002</td>\n      <td>10028</td>\n      <td>5710</td>\n      <td>3</td>\n      <td>1</td>\n      <td>5103403</td>\n      <td>51</td>\n      <td>5</td>\n      <td>...</td>\n      <td>4.0</td>\n      <td>4.0</td>\n      <td>1.0</td>\n      <td>3.0</td>\n      <td>3.0</td>\n      <td>4.0</td>\n      <td>8.0</td>\n      <td>3.0</td>\n      <td>4.0</td>\n      <td>4.0</td>\n    </tr>\n  </tbody>\n</table>\n<p>10 rows × 137 columns</p>\n</div>",
            "text/plain": "   NU_ANO  CO_IES  CO_CATEGAD  CO_ORGACAD  CO_GRUPO  CO_CURSO  CO_MODALIDADE  \\\n0    2019       1       10002       10028      5710         3              1   \n1    2019       1       10002       10028      5710         3              1   \n2    2019       1       10002       10028      5710         3              1   \n3    2019       1       10002       10028      5710         3              1   \n4    2019       1       10002       10028      5710         3              1   \n5    2019       1       10002       10028      5710         3              1   \n6    2019       1       10002       10028      5710         3              1   \n7    2019       1       10002       10028      5710         3              1   \n8    2019       1       10002       10028      5710         3              1   \n9    2019       1       10002       10028      5710         3              1   \n\n   CO_MUNIC_CURSO  CO_UF_CURSO  CO_REGIAO_CURSO  ...  QE_I59 QE_I60  QE_I61  \\\n0         5103403           51                5  ...     2.0    5.0     1.0   \n1         5103403           51                5  ...     1.0    4.0     2.0   \n2         5103403           51                5  ...     3.0    4.0     4.0   \n3         5103403           51                5  ...     3.0    5.0     2.0   \n4         5103403           51                5  ...     NaN    NaN     NaN   \n5         5103403           51                5  ...     1.0    6.0     1.0   \n6         5103403           51                5  ...     1.0    4.0     1.0   \n7         5103403           51                5  ...     8.0    6.0     3.0   \n8         5103403           51                5  ...     5.0    5.0     1.0   \n9         5103403           51                5  ...     4.0    4.0     1.0   \n\n   QE_I62  QE_I63  QE_I64  QE_I65  QE_I66  QE_I67  QE_I68  \n0     1.0     2.0     5.0     8.0     7.0     1.0     2.0  \n1     2.0     2.0     5.0     4.0     4.0     2.0     2.0  \n2     3.0     3.0     4.0     1.0     1.0     1.0     4.0  \n3     2.0     2.0     3.0     3.0     4.0     3.0     3.0  \n4     NaN     NaN     NaN     NaN     NaN     NaN     NaN  \n5     1.0     1.0     8.0     1.0     1.0     1.0     1.0  \n6     3.0     3.0     6.0     6.0     3.0     6.0     4.0  \n7     2.0     2.0     6.0     8.0     1.0     1.0     3.0  \n8     1.0     1.0     5.0     1.0     4.0     3.0     1.0  \n9     3.0     3.0     4.0     8.0     3.0     4.0     4.0  \n\n[10 rows x 137 columns]"
          },
          "execution_count": 5,
          "metadata": {},
          "output_type": "execute_result"
        }
      ],
      "source": [
        "enade.head(10)"
      ]
    },
    {
      "cell_type": "code",
      "execution_count": 6,
      "metadata": {
        "colab": {
          "base_uri": "https://localhost:8080/"
        },
        "id": "PBkIYg01WsX_",
        "outputId": "b1949a94-75b5-4e4e-eb45-9481ed6fb2d0"
      },
      "outputs": [
        {
          "name": "stdout",
          "output_type": "stream",
          "text": [
            "<class 'pandas.core.frame.DataFrame'>\n",
            "RangeIndex: 433930 entries, 0 to 433929\n",
            "Columns: 137 entries, NU_ANO to QE_I68\n",
            "dtypes: float64(61), int64(33), object(43)\n",
            "memory usage: 453.6+ MB\n"
          ]
        }
      ],
      "source": [
        "# dataframe `enade` info\n",
        "enade.info()"
      ]
    },
    {
      "cell_type": "code",
      "execution_count": 7,
      "metadata": {
        "colab": {
          "base_uri": "https://localhost:8080/"
        },
        "id": "NPLuHCYxW6Oi",
        "outputId": "d68eadd3-d225-4e68-9641-b2399d3f8d9d"
      },
      "outputs": [
        {
          "data": {
            "text/plain": "NU_ANO          int64\nCO_IES          int64\nCO_CATEGAD      int64\nCO_ORGACAD      int64\nCO_GRUPO        int64\n               ...   \nQE_I64        float64\nQE_I65        float64\nQE_I66        float64\nQE_I67        float64\nQE_I68        float64\nLength: 137, dtype: object"
          },
          "execution_count": 7,
          "metadata": {},
          "output_type": "execute_result"
        }
      ],
      "source": [
        "# data types presented by Pandas\n",
        "enade.dtypes"
      ]
    },
    {
      "cell_type": "code",
      "execution_count": 8,
      "metadata": {
        "colab": {
          "base_uri": "https://localhost:8080/"
        },
        "id": "tEyM4yHCam8P",
        "outputId": "cd2f3826-a9e2-4d27-dc06-bb096bc28900"
      },
      "outputs": [
        {
          "data": {
            "text/plain": "{'NU_ANO': dtype('int64'),\n 'CO_IES': dtype('int64'),\n 'CO_CATEGAD': dtype('int64'),\n 'CO_ORGACAD': dtype('int64'),\n 'CO_GRUPO': dtype('int64'),\n 'CO_CURSO': dtype('int64'),\n 'CO_MODALIDADE': dtype('int64'),\n 'CO_MUNIC_CURSO': dtype('int64'),\n 'CO_UF_CURSO': dtype('int64'),\n 'CO_REGIAO_CURSO': dtype('int64'),\n 'NU_IDADE': dtype('int64'),\n 'TP_SEXO': dtype('O'),\n 'ANO_FIM_EM': dtype('int64'),\n 'ANO_IN_GRAD': dtype('float64'),\n 'CO_TURNO_GRADUACAO': dtype('float64'),\n 'TP_INSCRICAO_ADM': dtype('int64'),\n 'TP_INSCRICAO': dtype('int64'),\n 'NU_ITEM_OFG': dtype('int64'),\n 'NU_ITEM_OFG_Z': dtype('int64'),\n 'NU_ITEM_OFG_X': dtype('int64'),\n 'NU_ITEM_OFG_N': dtype('int64'),\n 'NU_ITEM_OCE': dtype('int64'),\n 'NU_ITEM_OCE_Z': dtype('int64'),\n 'NU_ITEM_OCE_X': dtype('int64'),\n 'NU_ITEM_OCE_N': dtype('int64'),\n 'DS_VT_GAB_OFG_ORIG': dtype('O'),\n 'DS_VT_GAB_OFG_FIN': dtype('O'),\n 'DS_VT_GAB_OCE_ORIG': dtype('O'),\n 'DS_VT_GAB_OCE_FIN': dtype('O'),\n 'DS_VT_ESC_OFG': dtype('O'),\n 'DS_VT_ACE_OFG': dtype('O'),\n 'DS_VT_ESC_OCE': dtype('O'),\n 'DS_VT_ACE_OCE': dtype('O'),\n 'TP_PRES': dtype('int64'),\n 'TP_PR_GER': dtype('int64'),\n 'TP_PR_OB_FG': dtype('int64'),\n 'TP_PR_DI_FG': dtype('int64'),\n 'TP_PR_OB_CE': dtype('int64'),\n 'TP_PR_DI_CE': dtype('int64'),\n 'TP_SFG_D1': dtype('int64'),\n 'TP_SFG_D2': dtype('int64'),\n 'TP_SCE_D1': dtype('int64'),\n 'TP_SCE_D2': dtype('int64'),\n 'TP_SCE_D3': dtype('int64'),\n 'NT_GER': dtype('float64'),\n 'NT_FG': dtype('float64'),\n 'NT_OBJ_FG': dtype('float64'),\n 'NT_DIS_FG': dtype('float64'),\n 'NT_FG_D1': dtype('float64'),\n 'NT_FG_D1_PT': dtype('float64'),\n 'NT_FG_D1_CT': dtype('float64'),\n 'NT_FG_D2': dtype('float64'),\n 'NT_FG_D2_PT': dtype('float64'),\n 'NT_FG_D2_CT': dtype('float64'),\n 'NT_CE': dtype('float64'),\n 'NT_OBJ_CE': dtype('float64'),\n 'NT_DIS_CE': dtype('float64'),\n 'NT_CE_D1': dtype('float64'),\n 'NT_CE_D2': dtype('float64'),\n 'NT_CE_D3': dtype('float64'),\n 'CO_RS_I1': dtype('O'),\n 'CO_RS_I2': dtype('O'),\n 'CO_RS_I3': dtype('O'),\n 'CO_RS_I4': dtype('O'),\n 'CO_RS_I5': dtype('O'),\n 'CO_RS_I6': dtype('O'),\n 'CO_RS_I7': dtype('O'),\n 'CO_RS_I8': dtype('O'),\n 'CO_RS_I9': dtype('O'),\n 'QE_I01': dtype('O'),\n 'QE_I02': dtype('O'),\n 'QE_I03': dtype('O'),\n 'QE_I04': dtype('O'),\n 'QE_I05': dtype('O'),\n 'QE_I06': dtype('O'),\n 'QE_I07': dtype('O'),\n 'QE_I08': dtype('O'),\n 'QE_I09': dtype('O'),\n 'QE_I10': dtype('O'),\n 'QE_I11': dtype('O'),\n 'QE_I12': dtype('O'),\n 'QE_I13': dtype('O'),\n 'QE_I14': dtype('O'),\n 'QE_I15': dtype('O'),\n 'QE_I16': dtype('float64'),\n 'QE_I17': dtype('O'),\n 'QE_I18': dtype('O'),\n 'QE_I19': dtype('O'),\n 'QE_I20': dtype('O'),\n 'QE_I21': dtype('O'),\n 'QE_I22': dtype('O'),\n 'QE_I23': dtype('O'),\n 'QE_I24': dtype('O'),\n 'QE_I25': dtype('O'),\n 'QE_I26': dtype('O'),\n 'QE_I27': dtype('float64'),\n 'QE_I28': dtype('float64'),\n 'QE_I29': dtype('float64'),\n 'QE_I30': dtype('float64'),\n 'QE_I31': dtype('float64'),\n 'QE_I32': dtype('float64'),\n 'QE_I33': dtype('float64'),\n 'QE_I34': dtype('float64'),\n 'QE_I35': dtype('float64'),\n 'QE_I36': dtype('float64'),\n 'QE_I37': dtype('float64'),\n 'QE_I38': dtype('float64'),\n 'QE_I39': dtype('float64'),\n 'QE_I40': dtype('float64'),\n 'QE_I41': dtype('float64'),\n 'QE_I42': dtype('float64'),\n 'QE_I43': dtype('float64'),\n 'QE_I44': dtype('float64'),\n 'QE_I45': dtype('float64'),\n 'QE_I46': dtype('float64'),\n 'QE_I47': dtype('float64'),\n 'QE_I48': dtype('float64'),\n 'QE_I49': dtype('float64'),\n 'QE_I50': dtype('float64'),\n 'QE_I51': dtype('float64'),\n 'QE_I52': dtype('float64'),\n 'QE_I53': dtype('float64'),\n 'QE_I54': dtype('float64'),\n 'QE_I55': dtype('float64'),\n 'QE_I56': dtype('float64'),\n 'QE_I57': dtype('float64'),\n 'QE_I58': dtype('float64'),\n 'QE_I59': dtype('float64'),\n 'QE_I60': dtype('float64'),\n 'QE_I61': dtype('float64'),\n 'QE_I62': dtype('float64'),\n 'QE_I63': dtype('float64'),\n 'QE_I64': dtype('float64'),\n 'QE_I65': dtype('float64'),\n 'QE_I66': dtype('float64'),\n 'QE_I67': dtype('float64'),\n 'QE_I68': dtype('float64')}"
          },
          "execution_count": 8,
          "metadata": {},
          "output_type": "execute_result"
        }
      ],
      "source": [
        "# data types presented by built-in dictionary\n",
        "dict(enade.dtypes)"
      ]
    }
  ],
  "metadata": {
    "colab": {
      "name": "01_enade_extracao",
      "provenance": []
    },
    "kernelspec": {
      "display_name": "Python 3",
      "name": "python3"
    },
    "language_info": {
      "name": "python"
    }
  },
  "nbformat": 4,
  "nbformat_minor": 0
}